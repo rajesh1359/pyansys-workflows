{
  "cells": [
    {
      "cell_type": "markdown",
      "metadata": {},
      "source": [
        "\n\n# Geometry generation\n\nThis example shows how to generate a simple PCB using PyAnsys Geometry via\nthe Ansys Geometry Service. The example demonstrates how to create a sketch,\nperform modeling operations, and export the file in different formats (in this\nspecific case, PMDB).\n"
      ]
    },
    {
      "cell_type": "code",
      "execution_count": null,
      "metadata": {
        "collapsed": false
      },
      "outputs": [],
      "source": [
        "import os\nfrom pathlib import Path\n\nfrom ansys.geometry.core import launch_modeler\nfrom ansys.geometry.core.connection import GEOMETRY_SERVICE_DOCKER_IMAGE, GeometryContainers\nfrom ansys.geometry.core.designer import DesignFileFormat\nfrom ansys.geometry.core.math import Plane, Point2D, Point3D, UnitVector3D\nfrom ansys.geometry.core.misc import DEFAULT_UNITS, UNITS\nfrom ansys.geometry.core.sketch import Sketch"
      ]
    },
    {
      "cell_type": "markdown",
      "metadata": {},
      "source": [
        "## Preparing the environment\nThis section is only necessary for workflow runs and docs generation. It checks\nthe environment variables to determine which image to use for the geometry service.\nIf you are running this script outside of a workflow, you can ignore this section.\n\n\n"
      ]
    },
    {
      "cell_type": "code",
      "execution_count": null,
      "metadata": {
        "collapsed": false
      },
      "outputs": [],
      "source": [
        "image = None\nif \"ANSYS_GEOMETRY_RELEASE\" in os.environ:\n    image_tag = os.environ[\"ANSYS_GEOMETRY_RELEASE\"]\n    for geom_services in GeometryContainers:\n        if image_tag == f\"{GEOMETRY_SERVICE_DOCKER_IMAGE}:{geom_services.value[2]}\":\n            print(f\"Using {image_tag} image\")\n            image = geom_services\n            break"
      ]
    },
    {
      "cell_type": "markdown",
      "metadata": {},
      "source": [
        "## Parameters for the script\nThe following parameters are used to control the script execution. You can\nmodify these parameters to suit your needs.\n\n\n"
      ]
    },
    {
      "cell_type": "code",
      "execution_count": null,
      "metadata": {
        "collapsed": false
      },
      "outputs": [],
      "source": [
        "GRAPHICS_BOOL = False  # Set to True to display the graphics\nOUTPUT_DIR = Path(Path(__file__).parent, \"outputs\")  # Output directory"
      ]
    },
    {
      "cell_type": "markdown",
      "metadata": {},
      "source": [
        "## Start a modeler session\nStart a modeler session to interact with the Ansys Geometry Service. The\nmodeler object is used to create designs, sketches, and perform modeling\noperations.\n\n\n"
      ]
    },
    {
      "cell_type": "code",
      "execution_count": null,
      "metadata": {
        "collapsed": false
      },
      "outputs": [],
      "source": [
        "modeler = launch_modeler(image=image)\nprint(modeler)"
      ]
    },
    {
      "cell_type": "markdown",
      "metadata": {},
      "source": [
        "## Create PCB geometry\n\n\n"
      ]
    },
    {
      "cell_type": "code",
      "execution_count": null,
      "metadata": {
        "collapsed": false
      },
      "outputs": [],
      "source": [
        "# Define default length units\nDEFAULT_UNITS.LENGTH = UNITS.cm\n\n# Define the radius of holes in pcb\npcb_hole_radius = 1\n\n# Create PCB Substrate\nsketch_substrate = Sketch()\n(\n    sketch_substrate.segment(Point2D([5, 0]), Point2D([122, 0]))\n    .arc_to_point(Point2D([127, 5]), Point2D([122, 5]))\n    .segment_to_point(Point2D([127, 135]))\n    .arc_to_point(Point2D([122, 140]), Point2D([122, 135]))\n    .segment_to_point(Point2D([5, 140]))\n    .arc_to_point(Point2D([0, 135]), Point2D([5, 135]))\n    .segment_to_point(Point2D([0, 5]))\n    .arc_to_point(Point2D([5, 0]), Point2D([5, 5]))\n    .circle(Point2D([6.35, 6.35]), radius=3.94 / 2)\n    .circle(Point2D([127 - 6.35, 6.35]), radius=3.94 / 2)\n    .circle(Point2D([127 - 6.35, 140 - 6.35]), radius=3.94 / 2)\n    .circle(Point2D([6.35, 140 - 6.35]), radius=3.94 / 2)\n)\nsubstrate_height = 1.575\nplane = Plane(\n    origin=Point3D([0, 0, substrate_height]),\n    direction_x=[1, 0, 0],\n    direction_y=[0, 1, 0],\n)\n\n# create IC\nsketch_IC = Sketch(plane)\nsketch_IC.box(Point2D([62 / 2 + 7.5, 51 / 2 + 5]), 15, 10)\n\n# create capacitor sketch\nsketch_capacitor = Sketch(plane=plane)\nsketch_capacitor.circle(center=Point2D([95, 104]), radius=4.4)\n\n# create ic\nsketch_ic_7 = Sketch(plane=plane)\nsketch_ic_7.box(Point2D([25, 108]), 18, 24)\n\n# create ic\nsketch_ic_8 = Sketch(plane=plane)\nsketch_ic_8.box(Point2D([21, 59]), 10, 18)"
      ]
    },
    {
      "cell_type": "markdown",
      "metadata": {},
      "source": [
        "## Modeling operations\nNow that the sketch is ready to be extruded, perform some modeling operations,\nincluding creating the design, creating the body directly on the design, and\nplotting the body.\n\n\n"
      ]
    },
    {
      "cell_type": "code",
      "execution_count": null,
      "metadata": {
        "collapsed": false
      },
      "outputs": [],
      "source": [
        "# Start by creating the Design\ndesign = modeler.create_design(\"pcb_design\")\n\n# Create all necessary components for pcb\ncomponent = design.add_component(\"PCB\")\ncomponent.extrude_sketch(\"substrate\", sketch_substrate, distance=substrate_height)\nic_1 = component.extrude_sketch(\"ic-1\", sketch_IC, distance=4.5)\n\nic_2 = ic_1.copy(parent=component, name=\"ic-2\")\nic_2.translate(direction=UnitVector3D([1, 0, 0]), distance=17)\n\nic_3 = ic_1.copy(parent=component, name=\"ic-3\")\nic_3.translate(direction=UnitVector3D([0, 1, 0]), distance=17)\n\nic_4 = ic_2.copy(parent=component, name=\"ic-4\")\nic_4.translate(direction=UnitVector3D([1, 0, 0]), distance=17)\n\nic_5 = ic_2.copy(parent=component, name=\"ic-5\")\nic_5.translate(direction=UnitVector3D([0, 1, 0]), distance=17)\n\nic_6 = ic_5.copy(parent=component, name=\"ic-6\")\nic_6.translate(direction=UnitVector3D([1, 0, 0]), distance=17)\n\nic_7 = component.extrude_sketch(\"ic-7\", sketch=sketch_ic_7, distance=2)\nic_8 = component.extrude_sketch(\"ic-8\", sketch=sketch_ic_8, distance=2)\n\ncapacitor_1 = component.extrude_sketch(\"capacitor_1\", sketch_capacitor, distance=20)\ncapacitor_2 = capacitor_1.copy(parent=component, name=\"capacitor_2\")\ncapacitor_2.translate(direction=UnitVector3D([0, 1, 0]), distance=-20)\ncapacitor_3 = capacitor_1.copy(parent=component, name=\"capacitor_3\")\ncapacitor_3.translate(direction=UnitVector3D([0, 1, 0]), distance=-40)\ncapacitor_4 = capacitor_1.copy(parent=component, name=\"capacitor_4\")\ncapacitor_4.translate(direction=UnitVector3D([0, 1, 0]), distance=-60)\n\n# Create named selections\nfor body in component.bodies:\n    design.create_named_selection(name=body.name, bodies=[body])\n\n# Plot the the entire geometry\nif GRAPHICS_BOOL:\n    design.plot()"
      ]
    },
    {
      "cell_type": "markdown",
      "metadata": {},
      "source": [
        "## Export the design\nOnce modeling operations are finalized, you can export files\nin different formats. For the formats supported by DMS, see the\n``DesignFileFormat`` class in the ``Design`` module documentation.\n\n\n"
      ]
    },
    {
      "cell_type": "code",
      "execution_count": null,
      "metadata": {
        "collapsed": false
      },
      "outputs": [],
      "source": [
        "# Export files in PMDB format for Mechanical.\nOUTPUT_DIR.mkdir(exist_ok=True)\ndownload_file = Path(OUTPUT_DIR, \"pcb.pmdb\")\ndesign.download(file_location=download_file, format=DesignFileFormat.PMDB)"
      ]
    },
    {
      "cell_type": "markdown",
      "metadata": {},
      "source": [
        "## Close session\n\nWhen you finish interacting with your modeling service, you should close the active\nserver session. This frees resources wherever the service is running.\n\n\n"
      ]
    },
    {
      "cell_type": "code",
      "execution_count": null,
      "metadata": {
        "collapsed": false
      },
      "outputs": [],
      "source": [
        "# Close the server session.\nmodeler.close()"
      ]
    }
  ],
  "metadata": {
    "kernelspec": {
      "display_name": "Python 3",
      "language": "python",
      "name": "python3"
    },
    "language_info": {
      "codemirror_mode": {
        "name": "ipython",
        "version": 3
      },
      "file_extension": ".py",
      "mimetype": "text/x-python",
      "name": "python",
      "nbconvert_exporter": "python",
      "pygments_lexer": "ipython3",
      "version": "3.12.7"
    }
  },
  "nbformat": 4,
  "nbformat_minor": 0
}