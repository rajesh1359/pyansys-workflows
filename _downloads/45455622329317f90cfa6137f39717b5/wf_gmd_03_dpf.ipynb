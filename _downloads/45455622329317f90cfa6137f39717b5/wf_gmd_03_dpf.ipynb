{
  "cells": [
    {
      "cell_type": "markdown",
      "metadata": {},
      "source": [
        "\n\n# Post-processing\n\nThis examples shows how dataprocessing framework can be used to extract results\nand analyze them.\n"
      ]
    },
    {
      "cell_type": "code",
      "execution_count": null,
      "metadata": {
        "collapsed": false
      },
      "outputs": [],
      "source": [
        "import os\nfrom pathlib import Path\n\nfrom ansys.dpf import core as dpf"
      ]
    },
    {
      "cell_type": "markdown",
      "metadata": {},
      "source": [
        "## Parameters for the script\nThe following parameters are used to control the script execution. You can\nmodify these parameters to suit your needs.\n\n\n"
      ]
    },
    {
      "cell_type": "code",
      "execution_count": null,
      "metadata": {
        "collapsed": false
      },
      "outputs": [],
      "source": [
        "GRAPHICS_BOOL = False  # Set to True to display the graphics\nOUTPUT_DIR = Path(Path(__file__).parent, \"outputs\")  # Output directory"
      ]
    },
    {
      "cell_type": "markdown",
      "metadata": {},
      "source": [
        "## Finding necessary files for dpf\n\n\n"
      ]
    },
    {
      "cell_type": "code",
      "execution_count": null,
      "metadata": {
        "collapsed": false
      },
      "outputs": [],
      "source": [
        "def find_files(directory, extension):\n    rst_files = []\n    for root, _, files in os.walk(directory):\n        for file in files:\n            if file.endswith(extension):\n                rst_files.append(os.path.join(root, file))\n    return rst_files\n\n\nextension_to_find = \".rth\"\n\n# Mechanical poject directory\nproject_directory = os.path.join(OUTPUT_DIR, \"pcb_Mech_Files\")\n\nsteady_state_rth_file = find_files(\n    os.path.join(project_directory, \"SteadyStateThermal\"), extension_to_find\n)\ntransient_rth_file = find_files(\n    os.path.join(project_directory, \"TransientThermal\"), extension_to_find\n)\n\nif steady_state_rth_file and transient_rth_file:\n    print(f\"Found {extension_to_find} files.\")\nelse:\n    print(\"No .rst files found.\")\n\nprint(steady_state_rth_file)\nprint(transient_rth_file)"
      ]
    },
    {
      "cell_type": "markdown",
      "metadata": {},
      "source": [
        "## DPF workflow\n\n\n"
      ]
    },
    {
      "cell_type": "code",
      "execution_count": null,
      "metadata": {
        "collapsed": false
      },
      "outputs": [],
      "source": [
        "# Result precision\ndecimal_precision = 6"
      ]
    },
    {
      "cell_type": "markdown",
      "metadata": {},
      "source": [
        "## Steady state thermal results\nCreate model\n\n"
      ]
    },
    {
      "cell_type": "code",
      "execution_count": null,
      "metadata": {
        "collapsed": false
      },
      "outputs": [],
      "source": [
        "steady_state_model = dpf.Model(steady_state_rth_file[0])\nprint(steady_state_model)\n\n# Get temperature distribution\ntemp = steady_state_model.results.temperature.on_last_time_freq.eval()[0]\n\n# Plot the temperature for ic-6\nif GRAPHICS_BOOL:\n    temp.plot()"
      ]
    },
    {
      "cell_type": "markdown",
      "metadata": {},
      "source": [
        "## Transient thermal results\nCreate model\n\n"
      ]
    },
    {
      "cell_type": "code",
      "execution_count": null,
      "metadata": {
        "collapsed": false
      },
      "outputs": [],
      "source": [
        "model = dpf.Model(transient_rth_file[0])\nprint(steady_state_model)\n\n# Get temperature distribution\ntemp = model.results.temperature.on_last_time_freq.eval()[0]\n\n# Plot the the temperature for ic-1\nif GRAPHICS_BOOL:\n    temp.plot()"
      ]
    }
  ],
  "metadata": {
    "kernelspec": {
      "display_name": "Python 3",
      "language": "python",
      "name": "python3"
    },
    "language_info": {
      "codemirror_mode": {
        "name": "ipython",
        "version": 3
      },
      "file_extension": ".py",
      "mimetype": "text/x-python",
      "name": "python",
      "nbconvert_exporter": "python",
      "pygments_lexer": "ipython3",
      "version": "3.12.7"
    }
  },
  "nbformat": 4,
  "nbformat_minor": 0
}